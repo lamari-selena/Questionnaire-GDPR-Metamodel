{
  "cells": [
    {
      "cell_type": "code",
      "execution_count": null,
      "metadata": {
        "id": "c4xqa4Bb3dXB"
      },
      "outputs": [],
      "source": [
        "!pip install numpy\n",
        "!pip install nltk\n",
        "!pip install gensim\n",
        "!pip install sklearn\n",
        "!pip install stop_words\n",
        "!pip install Levenshtein"
      ]
    },
    {
      "cell_type": "code",
      "execution_count": null,
      "metadata": {
        "colab": {
          "base_uri": "https://localhost:8080/"
        },
        "id": "_wpk4C-M31qE",
        "outputId": "44ce3a09-7d5e-40dd-d42e-a2ae69f460cc"
      },
      "outputs": [
        {
          "output_type": "stream",
          "name": "stdout",
          "text": [
            "Mounted at /content/drive\n"
          ]
        }
      ],
      "source": [
        "from google.colab import drive\n",
        "\n",
        "# Mount Google Drive\n",
        "drive.mount(\"/content/drive\")"
      ]
    },
    {
      "cell_type": "code",
      "execution_count": null,
      "metadata": {
        "colab": {
          "base_uri": "https://localhost:8080/"
        },
        "id": "T2infWXP3520",
        "outputId": "5c93d8b0-f427-4078-9ebe-0278902b9bdd"
      },
      "outputs": [
        {
          "output_type": "stream",
          "name": "stderr",
          "text": [
            "[nltk_data] Downloading package punkt to /root/nltk_data...\n",
            "[nltk_data]   Package punkt is already up-to-date!\n",
            "[nltk_data] Downloading package stopwords to /root/nltk_data...\n",
            "[nltk_data]   Package stopwords is already up-to-date!\n",
            "[nltk_data] Error loading metrics: Package 'metrics' not found in\n",
            "[nltk_data]     index\n"
          ]
        }
      ],
      "source": [
        "# ------------------------ library import & file reading -----------------------------\n",
        "import nltk\n",
        "import string\n",
        "import math\n",
        "import pandas as pd\n",
        "from nltk.stem import PorterStemmer, SnowballStemmer\n",
        "from nltk.metrics import jaccard_distance\n",
        "from sklearn.feature_extraction.text import TfidfVectorizer\n",
        "from scipy.spatial import distance\n",
        "\n",
        "nltk.download('punkt')\n",
        "nltk.download('stopwords')\n",
        "nltk.download('metrics')\n",
        "\n",
        "remove_punctuation_map = dict((ord(char), None) for char in string.punctuation)\n",
        "from nltk.corpus import stopwords\n",
        "stop_words = set(stopwords.words(\"english\"))\n",
        "\n",
        "from scipy.spatial import distance\n",
        "# Read the text file\n",
        "with open(\"gdpr key words.txt\", \"r\") as file:\n",
        "    doc = file.read()\n",
        "\n",
        "    # Read the text file\n",
        "with open(\"data protection guide.txt\", \"r\") as file:\n",
        "    doc1 = file.read()\n",
        "\n",
        "    # Read the text file\n",
        "with open(\"ico checklist.txt\", \"r\") as file:\n",
        "    doc2 = file.read()\n",
        "\n",
        "    # Read the text file\n",
        "with open(\"padres.txt\", \"r\") as file:\n",
        "    doc3 = file.read()\n",
        "\n",
        "        # Read the text file\n",
        "with open(\"gdpr checklist.txt\", \"r\") as file:\n",
        "    doc4 = file.read()\n",
        "\n",
        "        # Read the text file\n",
        "with open(\"advisera.txt\", \"r\") as file:\n",
        "    doc5 = file.read()\n"
      ]
    },
    {
      "cell_type": "code",
      "execution_count": null,
      "metadata": {
        "id": "RhlQmjqmzea3"
      },
      "outputs": [],
      "source": [
        "#---------------------------------------------------WordNetLemmatizer-------------------------------------------\n",
        "import nltk\n",
        "from nltk.stem import PorterStemmer\n",
        "from gensim.models import KeyedVectors\n",
        "from gensim.models import word2vec\n",
        "from nltk.corpus import stopwords\n",
        "import string\n",
        "from sklearn.metrics.pairwise import cosine_similarity\n",
        "import numpy as np\n",
        "from scipy.spatial import distance\n",
        "from nltk.tokenize import word_tokenize\n",
        "from nltk.stem import WordNetLemmatizer\n",
        "import re\n",
        "# Define the language you want to use\n",
        "language = 'english'\n",
        "\n",
        "# Load NLTK's stop words\n",
        "stop_words = set(stopwords.words(language))\n",
        "\n",
        "def preprocess_text(text):\n",
        "    # Lowercase the text\n",
        "    text = text.lower()\n",
        "\n",
        "    # Remove punctuation\n",
        "    text = re.sub(r'[^\\w\\s]', '', text)\n",
        "\n",
        "    # Tokenize the text\n",
        "    words = word_tokenize(text)\n",
        "\n",
        "    # Remove stop words\n",
        "    words = [word for word in words if word not in stop_words]\n",
        "\n",
        "    # Remove duplicate words\n",
        "    words = list(set(words))\n",
        "\n",
        "    # Remove numbers\n",
        "    words = [word for word in words if word.isalpha()]\n",
        "\n",
        "    # Stem the words\n",
        "    #stemmer = SnowballStemmer('english')\n",
        "    #stemmed_words = [stemmer.stem(word) for word in words]\n",
        "    # Lemmatize the words\n",
        "\n",
        "\n",
        "    # Initialize the lemmatizer\n",
        "    lemmatizer = WordNetLemmatizer()\n",
        "    lemmatized_words = [lemmatizer.lemmatize(word) for word in words]\n",
        "\n",
        "    # remove whitespace tokens\n",
        "    lemmatized_words = list(filter(lambda x: x.strip(), lemmatized_words))\n",
        "    return lemmatized_words\n",
        "    #return words\n",
        "    \n",
        "  "
      ]
    },
    {
      "cell_type": "code",
      "execution_count": null,
      "metadata": {
        "id": "q6P-kHoCegvK",
        "colab": {
          "base_uri": "https://localhost:8080/"
        },
        "outputId": "c3b735ab-8c74-470a-a02a-27266da175e9"
      },
      "outputs": [
        {
          "output_type": "stream",
          "name": "stderr",
          "text": [
            "/usr/local/lib/python3.8/dist-packages/torch/cuda/__init__.py:497: UserWarning: Can't initialize NVML\n",
            "  warnings.warn(\"Can't initialize NVML\")\n"
          ]
        }
      ],
      "source": [
        "#---------------------------------------------------SpacyLemmatizer-------------------------------------------\n",
        "import spacy\n",
        "from spacy.lang.en.stop_words import STOP_WORDS\n",
        "import re\n",
        "\n",
        "def preprocess_text(text):\n",
        "    # load the spacy 'en_core_web_sm' model\n",
        "    nlp = spacy.load(\"en_core_web_sm\")\n",
        "    # lowercase the text\n",
        "    text = text.lower()\n",
        "    # Remove punctuation\n",
        "    text = re.sub(r'[^\\w\\s]', '', text)\n",
        "    # process the text\n",
        "    doc = nlp(text)\n",
        "    # initialize an empty list to store the lemmatized tokens\n",
        "    lemmatized_tokens = []\n",
        "    # iterate over the tokens\n",
        "    for token in doc:\n",
        "        # check if the token is a punctuation or a stop word\n",
        "        if token.is_punct or token.is_stop:\n",
        "            continue\n",
        "        # lemmatize the token and add it to the list\n",
        "        lemmatized_tokens.append(token.lemma_)\n",
        "    # remove whitespace tokens\n",
        "    lemmatized_tokens = list(filter(lambda x: x.strip(), lemmatized_tokens))\n",
        "    return lemmatized_tokens\n"
      ]
    },
    {
      "cell_type": "code",
      "execution_count": null,
      "metadata": {
        "colab": {
          "base_uri": "https://localhost:8080/"
        },
        "id": "sv5uSOQH5deZ",
        "outputId": "fca1e8ae-9431-4f82-9158-28820bcd6b5a"
      },
      "outputs": [
        {
          "output_type": "stream",
          "name": "stderr",
          "text": [
            "[nltk_data] Downloading package punkt to /root/nltk_data...\n",
            "[nltk_data]   Package punkt is already up-to-date!\n",
            "[nltk_data] Downloading package stopwords to /root/nltk_data...\n",
            "[nltk_data]   Package stopwords is already up-to-date!\n",
            "[nltk_data] Downloading package wordnet to /root/nltk_data...\n"
          ]
        },
        {
          "output_type": "stream",
          "name": "stdout",
          "text": [
            "-------------------------------JACCARD---------------------------------------\n",
            "la similarité J avec le Q1 0.09921671018276768\n",
            "la similarité J avec le Q2 0.0631302060499781\n",
            "la similarité J avec le Q3 0.035195776506819154\n",
            "la similarité J avec le Q4 0.03484781649757385\n",
            "la similarité J avec le Q5 0.06475770925110136\n"
          ]
        }
      ],
      "source": [
        "#----------------------------------------------------------- Jaccard -----------------------------------------------\n",
        "\n",
        "nltk.download('punkt')\n",
        "nltk.download('stopwords')\n",
        "nltk.download('wordnet')\n",
        "doc_tokens = set(preprocess_text(doc))\n",
        "doc1_tokens = set(preprocess_text(doc1))\n",
        "doc2_tokens = set(preprocess_text(doc2))\n",
        "doc3_tokens = set(preprocess_text(doc3))\n",
        "doc4_tokens = set(preprocess_text(doc4))\n",
        "doc5_tokens = set(preprocess_text(doc5))\n",
        "\n",
        "\n",
        "print (\"-------------------------------JACCARD---------------------------------------\")\n",
        "\n",
        "print(\"la similarité J avec le Q1\", 1- jaccard_distance(doc_tokens, doc1_tokens))\n",
        "print(\"la similarité J avec le Q2\", 1-jaccard_distance(doc_tokens, doc2_tokens))\n",
        "print(\"la similarité J avec le Q3\", 1-jaccard_distance(doc_tokens, doc3_tokens))\n",
        "print(\"la similarité J avec le Q4\", 1-jaccard_distance(doc_tokens, doc4_tokens))\n",
        "print(\"la similarité J avec le Q5\", 1-jaccard_distance(doc_tokens, doc5_tokens))"
      ]
    },
    {
      "cell_type": "code",
      "execution_count": null,
      "metadata": {
        "id": "GeaqOKbSAQ98"
      },
      "outputs": [],
      "source": [
        "#---------------------------------------------------------------- Word2vec Google-news ----------------------------------\n",
        "\n",
        "from nltk.stem import PorterStemmer\n",
        "from gensim.models import KeyedVectors\n",
        "from gensim.models import word2vec\n",
        "from sklearn.metrics.pairwise import cosine_similarity\n",
        "from scipy.spatial import distance\n",
        "\n",
        "# Load the pre-trained word2vec model\n",
        "model = KeyedVectors.load_word2vec_format('/content/drive/MyDrive/Colab_questionnaires/GoogleNews-vectors-negative300.bin', binary=True)\n"
      ]
    },
    {
      "cell_type": "code",
      "execution_count": null,
      "metadata": {
        "colab": {
          "base_uri": "https://localhost:8080/"
        },
        "id": "fNueINw5ak4O",
        "outputId": "1e1c6d94-5a9c-4e62-ab46-09146d6bdef2"
      },
      "outputs": [
        {
          "name": "stderr",
          "output_type": "stream",
          "text": [
            "Warning : `load_model` does not return WordVectorModel or SupervisedModel any more, but a `FastText` object which is very similar.\n"
          ]
        }
      ],
      "source": [
        "#!pip install --upgrade fasttext\n",
        "\n",
        "import fasttext.util\n",
        "fasttext.util.download_model('en', if_exists='ignore')  # English\n",
        "model = fasttext.load_model('cc.en.300.bin')"
      ]
    },
    {
      "cell_type": "code",
      "execution_count": null,
      "metadata": {
        "colab": {
          "base_uri": "https://localhost:8080/"
        },
        "id": "wTVhT_F12788",
        "outputId": "8b1ce557-d7b6-44d9-b4c0-d966aa4936b3"
      },
      "outputs": [
        {
          "output_type": "stream",
          "name": "stderr",
          "text": [
            "[nltk_data] Downloading package omw-1.4 to /root/nltk_data...\n",
            "[nltk_data]   Package omw-1.4 is already up-to-date!\n"
          ]
        },
        {
          "output_type": "stream",
          "name": "stdout",
          "text": [
            "{'intended', 'great', 'enters', 'broad', 'interlocutor', 'accurate', 'costeffectiveness', 'inserted', 'enterprise', 'storage', 'predict', 'throughout', 'acting', 'use', 'disease', 'extensive', 'tool', 'prohibit', 'analyse', 'council', 'feasibility', 'three', 'effectively', 'reversal', 'offered', 'conducted', 'surrounding', 'research', 'split', 'broadly', 'cti', 'september', 'particularity', 'method', 'considers', 'wholly', 'standardised', 'basis', 'law', 'compliance', 'aspect', 'attitude', 'express', 'academic', 'laboratory', 'type', 'clearly', 'tr', 'identified', 'operator', 'restore', 'setting', 'regulate', 'additional', 'laying', 'implemented', 'comment', 'assume', 'ethnic', 'except', 'regular', 'conducting', 'drawn', 'intention', 'accompanied', 'november', 'hear', 'journalistic', 'unintelligible', 'penalised', 'household', 'specific', 'twentieth', 'addition', 'ownership', 'lawyer', 'depend', 'dismissal', 'estonia', 'auditor', 'without', 'harmonised', 'practical', 'warning', 'unless', 'engage', 'tracing', 'jurisdic', 'press', 'regardless', 'put', 'made', 'imply', 'afforded', 'complete', 'triggering', 'inaccuracy', 'revised', 'server', 'reciprocity', 'entry', 'hamper', 'ongoing', 'account', 'execute', 'clinical', 'le', 'authenticity', 'worldwide', 'frequency', 'april', 'human', 'retroactive', 'participate', 'act', 'k', 'attributed', 'withdrawing', 'authorisation', 'inherited', 'structure', 'networking', 'archive', 'evaluate', 'affect', 'originate', 'mechanism', 'promptly', 'influence', 'sation', 'damage', 'deemed', 'age', 'e', 'minimum', 'environment', 'performed', 'article', 'connected', 'subjectmatter', 'statistic', 'genealogical', 'orally', 'data', 'excluded', 'visà', 'june', 'insurance', 'proposal', 'fulfilment', 'protocol', 'factor', 'requires', 'power', 'norm', 'dissuasive', 'external', 'accordingly', 'remote', 'whereby', 'month', 'regulation', 'whenever', 'led', 'intend', 'reading', 'delegation', 'duty', 'focus', 'person', 'intermediate', 'entering', 'malicious', 'gically', 'representing', 'designation', 'arrangement', 'properly', 'singling', 'introduction', 'lawfully', 'chosen', 'interpret', 'manmade', 'penalty', 'procedure', 'reporting', 'issue', 'mediumsized', 'profiling', 'registry', 'contractual', 'icer', 'infrastructure', 'result', 'oj', 'digital', 'continuity', 'thus', 'certainty', 'register', 'determining', 'ancillary', 'qualified', 'intermediary', 'fully', 'stopping', 'europe', 'company', 'list', 'situation', 'relate', 'empowered', 'residual', 'indefinite', 'hampering', 'stable', 'protect', 'avoided', 'icon', 'viii', 'inform', 'handling', 'doubt', 'institution', 'rep', 'margin', 'conflicting', 'highest', 'ind', 'notify', 'february', 'defence', 'institute', 'first', 'establishment', 'responsible', 'posed', 'w', 'tax', 'establishing', 'genuine', 'week', 'offence', 'accomplishment', 'highquality', 'imperative', 'vested', 'fulfils', 'receives', 'unique', 'using', 'immediately', 'january', 'twothirds', 'judgment', 'respectively', 'previously', 'met', 'via', 'disadvantage', 'reason', 'balancing', 'financing', 'gainful', 'medium', 'close', 'furthering', 'accreditation', 'representation', 'right', 'andor', 'however', 'extending', 'disseminate', 'sharing', 'prevents', 'prevent', 'pseudonymi', 'fairly', 'cardiovascular', 'parental', 'submits', 'marketing', 'amend', 'ence', 'aware', 'alia', 'drawing', 'depending', 'bring', 'f', 'specifically', 'extension', 'recording', 'handle', 'designing', 'ght', 'preparatory', 'family', 'repetitive', 'quantity', 'offer', 'discrimination', 'tion', 'investi', 'controlling', 'consistency', 'conflict', 'private', 'implies', 'mandated', 'strong', 'represents', 'payment', 'link', 'retain', 'preventative', 'recourse', 'achieve', 'market', 'objective', 'smooth', 'amicable', 'detailed', 'refers', 'demonstrated', 'nomination', 'small', 'involves', 'tie', 'erecruiting', 'significantly', 'ltati', 'uniquely', 'collate', 'content', 'relation', 'either', 'protection', 'exclusive', 'raised', 'li', 'necessity', 'explicit', 'exclusion', 'restriction', 'horizontal', 'determine', 'ensures', 'detecting', 'eight', 'justice', 'prohibited', 'dna', 'sufficiently', 'want', 'document', 'electoral', 'mathematical', 'appointment', 'called', 'mutual', 'strengthening', 'technically', 'could', 'operating', 'outofcourt', 'fails', 'ent', 'published', 'task', 'micro', 'minor', 'affected', 'committee', 'redress', 'regional', 'go', 'enforce', 'obstacle', 'given', 'based', 'approved', 'recipient', 'fragmentation', 'unit', 'effective', 'affirmative', 'transfer', 'largescale', 'assisting', 'ethical', 'lodge', 'commercial', 'main', 'whether', 'jurisdiction', 'return', 'accessible', 'notwithstanding', 'publicity', 'hennisplasschaert', 'physical', 'implement', 'associated', 'transformed', 'mind', 'mere', 'geographical', 'thereof', 'io', 'december', 'identifying', 'tation', 'partnership', 'disseminated', 'imposition', 'caused', 'day', 'knowledge', 'proliferation', 'exempt', 'team', 'instead', 'held', 'acquire', 'govern', 'unprecedented', 'allocated', 'reveals', 'indiscriminate', 'revoke', 'consensus', 'genocide', 'becomes', 'photograph', 'deprivation', 'accessibility', 'communicate', 'backed', 'level', 'minimising', 'rule', 'impeded', 'eligible', 'engaging', 'posse', 'staff', 'correct', 'deprived', 'delay', 'obtained', 'reached', 'erasing', 'tender', 'exceed', 'signifies', 'symbol', 'contribute', 'intact', 'resolving', 'regard', 'comply', 'defined', 'rectification', 'promote', 'chooses', 'resource', 'replaced', 'refuse', 'programme', 'justified', 'vitro', 'address', 'reach', 'system', 'aggravating', 'cert', 'linked', 'controlled', 'requiring', 'regime', 'circumvention', 'dispute', 'freedom', 'exert', 'interest', 'action', 'ban', 'used', 'officer', 'diagnostic', 'skill', 'provide', 'need', 'undergone', 'indeterminate', 'upon', 'territorial', 'preliminary', 'whereas', 'easily', 'unfounded', 'derogating', 'control', 'withdraw', 'official', 'crossborder', 'irreconcilable', 'group', 'framework', 'recordkeeping', 'produced', 'charge', 'transmitted', 'opticelectronic', 'breach', 'professional', 'unlawful', 'origin', 'technolo', 'bear', 'economical', 'form', 'kind', 'misation', 'good', 'current', 'perception', 'de', 'confidential', 'information', 'bound', 'financial', 'entrusted', 'different', 'confirmation', 'technique', 'visualisation', 'limited', 'attainment', 'uniform', 'conduct', 'opinion', 'chapter', 's', 'sideration', 'generally', 'threat', 'severity', 'consists', 'unsuccessful', 'expressed', 'prof', 'nd', 'monitored', 'mandate', 'consenting', 'balanced', 'difference', 'joint', 'om', 'deciding', 'appoint', 'reaction', 'medicine', 'conviction', 'selected', 'publicly', 'element', 'seek', 'expression', 'determinant', 'anonymous', 'complexity', 'assistance', 'automated', 'exception', 'competition', 'range', 'wellbeing', 'foreseeable', 'composed', 'precisely', 'incapable', 'solid', 'infringement', 'eec', 'end', 'clear', 'extend', 'advice', 'life', 'survey', 'interpreted', 'undertaking', 'care', 'trust', 'relevant', 'remedy', 'adopting', 'interoperable', 'precaution', 'premise', 'dominant', 'confidence', 'upper', 'coherent', 'rectified', 'substance', 'kept', 'collection', 'residence', 'make', 'importance', 'sio', 'concrete', 'full', 'accompany', 'confidentiality', 'unlawfully', 'complies', 'expert', 'se', 'connection', 'physically', 'facial', 'ctio', 'c', 'producer', 'educational', 'size', 'detriment', 'apportioned', 'deleted', 'giving', 'two', 'existing', 'similarly', 'violation', 'others', 'consular', 'personality', 'entail', 'supervisory', 'occasional', 'globalisation', 'signature', 'na', 'purpose', 'produce', 'involving', 'product', 'status', 'derogation', 'creating', 'preceding', 'increasingly', 'examine', 'image', 'policy', 'onward', 'jointly', 'multilateral', 'rapid', 'social', 'eur', 'resides', 'across', 'statistical', 'temporarily', 'consented', 'basic', 'residing', 'call', 'indication', 'request', 'latter', 'harmonise', 'language', 'legitimately', 'assessed', 'deems', 'behavioural', 'becoming', 'time', 'known', 'general', 'acid', 'ordered', 'cultural', 'misconduct', 'custom', 'serious', 'business', 'value', 'production', 'far', 'sexual', 'staggered', 'prior', 'potential', 'ordering', 'risk', 'reimbursement', 'ii', 'lodging', 'extraterritorial', 'complaint', 'dispersed', 'timely', 'differ', 'ascertained', 'enjoyment', 'know', 'settlement', 'everyone', 'six', 'approximate', 'amendment', 'developing', 'completed', 'safeguard', 'reduce', 'condition', 'open', 'alternatively', 'feature', 'movement', 'total', 'freely', 'proven', 'possibility', 'tag', 'behaviour', 'lead', 'erase', 'mankind', 'performing', 'another', 'require', 'process', 'carry', 'logical', 'available', 'head', 'reuse', 'combination', 'reflect', 'cooperate', 'sure', 'designed', 'healthrelated', 'course', 'ivi', 'manual', 'retention', 'permanent', 'modality', 'l', 'obligation', 'sanction', 'rna', 'provides', 'none', 'enabling', 'enforceable', 'whatever', 'specificity', 'fewer', 'dismisses', 'similar', 'nduc', 'removing', 'consequence', 'suffer', 'profile', 'relates', 'lifted', 'da', 'meaning', 'impair', 'recognised', 'sm', 'advertising', 'pre', 'protects', 'application', 'iga', 'discussion', 'misdemeanour', 'shorter', 'complainant', 'written', 'five', 'accidental', 'functioning', 'received', 'view', 'expiration', 'ec', 'recognise', 'consistent', 'gation', 'racial', 'lawenforcement', 'integration', 'favour', 'developed', 'corporate', 'communication', 'secure', 'chromosomal', 'acquired', 'adopt', 'hereby', 'liable', 'initiating', 'investigation', 'church', 'distribution', 'adapted', 'neutral', 'reject', 'instruction', 'trace', 'likely', 'credit', 'arising', 'subsequently', 'excessive', 'taxevasion', 'enshrined', 'fulfil', 'operation', 'consideration', 'efficiency', 'point', 'conjunction', 'systematically', 'dataprotection', 'calibrate', 'invalid', 'likelihood', 'concerning', 'demonstrates', 'controller', 'schulz', 'authorised', 'material', 'officially', 'context', 'regarding', 'armed', 'gained', 'internally', 'mitigated', 'remedial', 'vii', 'otherwise', 'ional', 'competence', 'ki', 'sent', 'consumer', 'cur', 'supplementary', 'phase', 'noncompliance', 'additionally', 'utmost', 'addressee', 'resulting', 'referred', 'engaged', 'president', 'withdrawal', 'manoeuvre', 'brought', 'ci', 'expressly', 'investigative', 'holding', 'responsibility', 'especially', 'hour', 'purport', 'transparency', 'foreign', 'set', 'outside', 'whole', 'decentralised', 'child', 'compensate', 'historical', 'consoli', 'enforced', 'owe', 'affiliated', 'constitutes', 'reprimand', 'making', 'cross', 'prohibition', 'choice', 'exists', 'matter', 'pending', 'cookie', 'provision', 'entitled', 'propor', 'intends', 'awareness', 'documented', 'report', 'delete', 'attributing', 'achievement', 'software', 'pursuance', 'nsu', 'strict', 'later', 'homogenous', 'essentially', 'b', 'determination', 'whichever', 'qualification', 'majority', 'partially', 'evidence', 'commonly', 'analysing', 'adoption', 'receiving', 'continue', 'widely', 'revoked', 'specification', 'tif', 'drawingup', 'common', 'execution', 'enforcing', 'documentation', 'exemption', 'obtaining', 'regulated', 'reply', 'irrespective', 'office', 'objection', 'apparent', 'criminal', 'logistical', 'rather', 'infringes', 'judicial', 'governed', 'compromise', 'te', 'requirement', 'criterion', 'inactivity', 'cooperation', 'react', 'prompt', 'medicinal', 'test', 'occasionally', 'conformity', 'past', 'translation', 'urgency', 'absence', 'easy', 'indirectly', 'host', 'allocation', 'humanitarian', 'enables', 'platform', 'direction', 'duly', 'customer', 'employee', 'rate', 'nationality', 'suffered', 'concept', 'pe', 'profit', 'corresponding', 'caselaw', 'mandatory', 'former', 'disaster', 'indemnify', 'mitigate', 'date', 'foundation', 'political', 'single', 'tional', 'csirts', 'morbidity', 'equivalent', 'sector', 'forensic', 'r', 'obliged', 'proposed', 'decided', 'purely', 'nonjudicial', 'drafting', 'court', 'intervention', 'envisaged', 'monitor', 'deceased', 'lay', 'dismissed', 'inherent', 'producing', 'force', 'real', 'period', 'remove', 'directed', 'leaf', 'allows', 'urgent', 'voting', 'marking', 'ner', 'religion', 'economic', 'home', 'remedying', 'sum', 'justify', 'decline', 'adequate', 'access', 'wider', 'property', 'infringe', 'manifestly', 'reasoned', 'ri', 'systematic', 'journal', 'realisation', 'alone', 'come', 'amended', 'withdraws', 'unfair', 'closely', 'second', 'exercising', 'consent', 'analytical', 'cause', 'order', 'advisory', 'encouraged', 'deputy', 'pursued', 'scope', 'conscience', 'mentioning', 'essence', 'cer', 'credential', 'unaffected', 'vi', 'light', 'essential', 'fair', 'founded', 'give', 'function', 'demonstrating', 'often', 'considerably', 'undertaken', 'internet', 'varying', 'minimised', 'choose', 'various', 'benefit', 'prosecution', 'necessary', 'website', 'referral', 'covering', 'suitable', 'maximum', 'significant', 'disproportionate', 'supervision', 'implementation', 'association', 'vital', 'partly', 'possible', 'careful', 'stored', 'agreed', 'treaty', 'separately', 'reference', 'expertise', 'communicable', 'mental', 'insufficient', 'precise', 'represented', 'extent', 'meaningful', 'therewith', 'taking', 'validity', 'achieving', 'unnecessarily', 'followup', 'superfluous', 'holocaust', 'organ', 'er', 'compelling', 'high', 'summary', 'brussels', 'accuracy', 'vote', 'old', 'sex', 'challenge', 'established', 'number', 'secrecy', 'handled', 'doping', 'complying', 'disclose', 'separate', 'outcome', 'respective', 'might', 'expiry', 'renewed', 'unauthorised', 'organise', 'widespread', 'reappointment', 'covered', 'appraise', 'lawful', 'legislative', 'decisionmaking', 'limiting', 'repealed', 'researcher', 'disclosed', 'field', 'protected', 'assist', 'counselling', 'structuring', 'visiting', 'divergence', 'ternational', 'cally', 'interested', 'moreover', 'consult', 'mission', 'proportionate', 'transmission', 'restricted', 'guarantee', 'ct', 'complement', 'intellectual', 'preparation', 'ot', 'retirement', 'future', 'j', 'adversely', 'sound', 'branch', 'enable', 'impede', 'addressed', 'intentionally', 'accordance', 'genetic', 'interconnection', 'taxation', 'relevance', 'preventing', 'expedient', 'considera', 'character', 'assessment', 'question', 'medical', 'way', 'effectiveness', 'fine', 'initial', 'issued', 'pseudonymising', 'demonstrate', 'see', 'construed', 'containing', 'identifi', 'presented', 'regularly', 'annual', 'aggregate', 'draw', 'health', 'characteristic', 'identity', 'longterm', 'infringed', 'corrected', 'aimed', 'gravity', 'requesting', 'preparing', 'belief', 'totalitarian', 'independence', 'believe', 'explicitly', 'government', 'file', 'determines', 'confirms', 'comprising', 'preticked', 'certain', 'authorise', 'considering', 'news', 'carrying', 'elapsed', 'evaluating', 'inconsistent', 'instance', 'october', 'visible', 'coherence', 'determined', 'deoxyribonucleic', 'treating', 'ascertain', 'continuing', 'particular', 'awarenessraising', 'pension', 'respect', 'geneva', 'body', 'employing', 'nsist', 'consist', 'assigned', 'incomplete', 'organisation', 'achieved', 'exist', 'large', 'discharge', 'lack', 'philosophical', 'monetary', 'renew', 'enforcement', 'keeping', 'burden', 'incentive', 'present', 'protecting', 'notified', 'activity', 'render', 'emergency', 'event', 'judiciary', 'adopts', 'processor', 'inter', 'would', 'equipment', 'impartially', 'wish', 'regulatory', 'diplomatic', 'complainthandling', 'ut', 'interference', 'longer', 'establish', 'occupational', 'contract', 'adding', 'destruction', 'special', 'technology', 'consider', 'turnover', 'communicated', 'literary', 'seal', 'sec', 'ona', 'amount', 'serf', 'ribonucleic', 'regulating', 'subsequent', 'least', 'compensation', 'device', 'initially', 'promoting', 'party', 'approving', 'limitation', 'quality', 'rejected', 'development', 'demonstration', 'fact', 'seconding', 'technological', 'designate', 'changed', 'chamber', 'convention', 'crime', 'entered', 'within', 'nde', 'disability', 'ata', 'destination', 'integrate', 'related', 'diversity', 'sole', 'science', 'teu', 'convene', 'unable', 'ensured', 'prevention', 'ja', 'encourage', 'overview', 'compile', 'en', 'plaintiff', 'cover', 'knowledgebased', 'adaptation', 'convergence', 'agency', 'scientific', 'incumbent', 'combined', 'machinereadable', 'elect', 'safety', 'national', 'natural', 'virtue', 'co', 'comprehensible', 'statement', 'operational', 'individual', 'consultation', 'therein', 'termination', 'assessing', 'functional', 'incompatible', 'relating', 'requested', 'best', 'resignation', 'adapt', 'security', 'satisfaction', 'region', 'represent', 'uniformity', 'reconciliation', 'receipt', 'dependent', 'xi', 'parliament', 'physio', 'follow', 'bearing', 'better', 'came', 'attach', 'namely', 'deletes', 'ng', 'introduce', 'accredited', 'principle', 'broader', 'ra', 'annulment', 'territory', 'sectorspecific', 'secret', 'necessarily', 'contain', 'statutory', 'compatible', 'amongst', 'allow', 'create', 'preceded', 'systemati', 'externally', 'directive', 'banking', 'amending', 'constraint', 'simple', 'concluded', 'preclude', 'n', 'deriving', 'je', 'adopted', 'dependently', 'member', 'thereafter', 'compatibility', 'periodically', 'erased', 'considerable', 'perform', 'tionate', 'involve', 'privately', 'precontractual', 'mo', 'correspondence', 'definitive', 'initiated', 'working', 'loss', 'recognition', 'code', 'offering', 'prohibits', 'ix', 'override', 'democratic', 'seized', 'bi', 'invite', 'many', 'reimburse', 'degree', 'undue', 'certifi', 'respond', 'ie', 'replace', 'audiovisual', 'isation', 'enhanced', 'apply', 'identifiable', 'attention', 'attempt', 'manner', 'onestopshop', 'border', 'formulated', 'swift', 'entire', 'format', 'box', 'refusal', 'misuse', 'back', 'improving', 'comprehensive', 'limit', 'exercise', 'con', 'submission', 'holder', 'mortality', 'concern', 'every', 'exchanged', 'pursuit', 'refrain', 'sectoral', 'race', 'availability', 'patient', 'negligently', 'distort', 'commence', 'country', 'h', 'oversight', 'extended', 'binding', 'bilateral', 'local', 'well', 'expansion', 'preventive', 'interpretation', 'delegated', 'transmit', 'furthermore', 'position', 'automatic', 'identifier', 'disclosure', 'forgotten', 'joined', 'simultaneously', 'resilience', 'maintain', 'implementing', 'relationship', 'people', 'sensitive', 'explanation', 'thereby', 'claim', 'history', 'subordinate', 'recommendation', 'integrity', 'targeting', 'fee', 'suspension', 'accomplishing', 'describe', 'inaccurate', 'description', 'early', 'refer', 'heard', 'entirety', 'p', 'expenditure', 'adhered', 'publish', 'dactyloscopic', 'permit', 'theft', 'role', 'consolidation', 'discriminatory', 'certification', 'adherence', 'draft', 'online', 'procedural', 'response', 'derived', 'taken', 'population', 'enduring', 'higher', 'endeavour', 'globally', 'aim', 'communi', 'difficult', 'stakeholder', 'even', 'transmitting', 'facilitating', 'abolished', 'verify', 'change', 'insufficiently', 'individually', 'objected', 'consequently', 'review', 'physiology', 'charter', 'page', 'obtain', 'year', 'undergoing', 'acceptance', 'personnel', 'despite', 'compulsory', 'liaison', 'conclude', 'performance', 'also', 'absolute', 'concerned', 'physician', 'stay', 'already', 'intentional', 'ass', 'ethic', 'indirect', 'audit', 'alignment', 'work', 'ne', 'agree', 'library', 'agreement', 'cooperating', 'resist', 'decision', 'eu', 'provider', 'adequacy', 'pertaining', 'structured', 'notforprofit', 'expect', 'closer', 'undertake', 'religious', 'incorporate', 'important', 'pursuant', 'new', 'registration', 'eea', 'informed', 'solution', 'previous', 'investigate', 'boa', 'centralised', 'oo', 'workplace', 'adminis', 'unambiguous', 'consulting', 'euratom', 'pseudonymisation', 'particularly', 'impossible', 'meeting', 'examination', 'example', 'fo', 'inquiry', 'prepare', 'uncertainty', 'encompass', 'investigatory', 'danger', 'plan', 'granted', 'dua', 'ean', 'ground', 'ticking', 'eliminate', 'proportionality', 'reliability', 'sport', 'concise', 'completion', 'term', 'ecti', 'linguistic', 'delivered', 'contagious', 'hold', 'section', 'attack', 'presence', 'fairness', 'beyond', 'pseudony', 'processing', 'community', 'consisting', 'society', 'revocation', 'therefore', 'internat', 'identify', 'core', 'applies', 'ordinary', 'duration', 'paragraph', 'minimisation', 'organisational', 'reasonably', 'substantial', 'like', 'provisional', 'insofar', 'replication', 'authority', 'governing', 'profession', 'unemployment', 'enter', 'art', 'constituted', 'legal', 'equally', 'intelligible', 'tribunal', 'filing', 'contested', 'free', 'supply', 'identification', 'imposing', 'war', 'tfeu', 'urgently', 'interval', 'entrust', 'designated', 'et', 'applied', 'practice', 'deem', 'experience', 'biological', 'u', 'repealing', 'processed', 'applying', 'login', 'active', 'move', 'commerce', 'leading', 'representative', 'done', 'enhance', 'dismiss', 'erasure', 'state', 'g', 'may', 'lodged', 'avoid', 'considered', 'ency', 'seriously', 'prejudicial', 'sought', 'failure', 'confer', 'develop', 'prejudice', 'humanity', 'accession', 'reputation', 'transferred', 'submitted', 'hampered', 'unlikely', 'logic', 'applicable', 'excluding', 'service', 'civil', 'occupation', 'become', 'alleged', 'orientation', 'safeguarding', 'specifying', 'examined', 'must', 'paid', 'advise', 'text', 'default', 'electronically', 'indicated', 'required', 'valid', 'currency', 'contact', 'start', 'leave', 'guideline', 'direct', 'facilitate', 'artistic', 'eligibility', 'informing', 'regarded', 'habitual', 'independently', 'affecting', 'study', 'store', 'constitutional', 'imbalance', 'revealing', 'standard', 'proceeding', 'enc', 'trative', 'correspond', 'periodic', 'multiple', 'accountability', 'resentative', 'detected', 'daytoday', 'since', 'primary', 'legitimate', 'supervisor', 'title', 'consulted', 'abuse', 'assignment', 'ruling', 'publication', 'enactment', 'granting', 'overridden', 'user', 'employment', 'trial', 'conditional', 'legally', 'diagnosis', 'moving', 'soon', 'subsidiarity', 'independent', 'thought', 'understood', 'dissemination', 'mark', 'recruitment', 'collective', 'stipulate', 'opportunity', 'indicating', 'public', 'overall', 'respecting', 'authoris', 'ti', 'final', 'verification', 'take', 'issuing', 'network', 'decide', 'appropriate', 'updated', 'subsidiary', 'technical', 'measure', 'significance', 'acted', 'ar', 'tio', 'healthcare', 'segment', 'clarify', 'trade', 'collected', 'union', 'membership', 'supplement', 'accredi', 'rendered', 'nma', 'fundamental', 'vulnerable', 'inconvenience', 'together', 'guidance', 'bl', 'behalf', 'undermined', 'expectation', 'suspended', 'scale', 'x', 'actor', 'laundering', 'annex', 'reconcile', 'name', 'european', 'following', 'always', 'lower', 'presumed', 'support', 'formulation', 'liability', 'long', 'occurred', 'q', 'ro', 'impose', 'effort', 'alteration', 'hindrance', 'definition', 'directly', 'corrective', 'object', 'yet', 'pursue', 'instrument', 'voluntary', 'meet', 'denmark', 'envisages', 'preserve', 'legislation', 'evaluation', 'ep', 'isations', 'part', 'employer', 'existence', 'provided', 'participation', 'analysis', 'education', 'lawfulness', 'alert', 'march', 'located', 'materialise', 'contrary', 'quickly', 'idem', 'increased', 'exclude', 'predicting', 'reviewed', 'surveillance', 'towards', 'third', 'observes', 'proper', 'biometric', 'unavailable', 'ob', 'mitigating', 'physiological', 'carryingout', 'operate', 'replacement', 'legible', 'settling', 'equality', 'challenged', 'radio', 'sensitivity', 'merit', 'find', 'ation', 'contradict', 'planning', 'immediate', 'coupling', 'industry', 'ctif', 'include', 'client', 'treatment', 'commitment', 'establishes', 'epidemic', 'constitute', 'carried', 'finding', 'among', 'mean', 'ect', 'serve', 'design', 'fulfilled', 'depression', 'rejection', 'component', 'administration', 'appointed', 'exceptional', 'copyright', 'cancer', 'ff', 'reflects', 'competent', 'circumstance', 'copy', 'management', 'solely', 'distinguishable', 'iii', 'introduced', 'rise', 'overriding', 'alter', 'inspection', 'coordinate', 'capacity', 'circulated', 'plain', 'case', 'nonmaterial', 'silence', 'anybody', 'incident', 'became', 'substantially', 'exchange', 'budget', 'indepen', 'choosing', 'four', 'antimoney', 'regulates', 'sample', 'dataprocessing', 'theory', 'named', 'notification', 'suspend', 'includes', 'cessation', 'authentication', 'shall', 'dation', 'cost', 'preference', 'withdrawn', 'falling', 'advising', 'simultaneous', 'nature', 'sentence', 'correlation', 'confirm', 'entity', 'increase', 'agenda', 'understanding', 'larger', 'negligent', 'initiative', 'gravest', 'resolution', 'temporary', 'repeal', 'imposed', 'record', 'formation', 'original', 'according', 'feasible', 'portability', 'permitted', 'spread', 'chair', 'effect', 'understand', 'complied', 'computer', 'selecting', 'nevertheless', 'committed', 'reveal', 'memorandum', 'opposes', 'flow', 'visàvis', 'subparagraph', 'author', 'supranational', 'journalism', 'tive', 'approve', 'tracked', 'im', 'progress', 'including', 'legislator', 'neither', 'cc', 'latest', 'indicates', 'arrange', 'counterpart', 'prevented', 'step', 'able', 'funded', 'universal', 'transparent', 'oral', 'specified', 'informs', 'forward', 'personal', 'denial', 'hospital', 'electronic', 'help', 'exercised', 'restrict', 'secretariat', 'ion', 'category', 'international', 'retrieval', 'strictly', 'reasonable', 'remain', 'strengthen', 'conclusion', 'board', 'apart', 'central', 'ic', 'improve', 'privacy', 'v', 'contained', 'commission', 'budgetary', 'involved', 'accredit', 'dispropor', 'project', 'entrusting', 'writing', 'coordination', 'exclusively', 'july', 'specify', 'keep', 'indicate', 'tration', 'several', 'st', 'representa', 'whose', 'nt', 'renewable', 'one', 'ability', 'line', 'whilst', 'notice', 'submit', 'declare', 'guaranteed', 'decides', 'administrative', 'training', 'providing', 'place', 'prosecutorial', 'clause', 'contest', 'supervise', 'testing', 'notion', 'dently', 'allowing', 'biomedical', 'cation', 'error', 'laid', 'dignity', 'sufficient', 'internal', 'fall', 'location', 'seeking', 'conferred', 'iv', 'declaration', 'adverse', 'area', 'encryption', 'bodily', 'evaluated', 'along', 'economy', 'archiving', 'due', 'receive', 'source', 'enisoiec', 'detail', 'subject', 'income', 'detection', 'disruptive', 'ure', 'email', 'engages', 'post', 'assisted', 'fraud', 'op', 'ensuring', 'allowed', 'collect', 'ensure', 'archived', 'monitoring', 'impact'}\n",
            "{'intended', 'customer', 'business', 'employee', 'marketing', 'data', 'accurate', 'held', 'appoint', 'user', 'risk', 'able', 'legal', 'date', 'high', 'mitigate', 'use', 'specifies', 'sale', 'intelligible', 'online', 'halt', 'transparent', 'organisation', 'automated', 'personal', 'month', 'industry', 'legally', 'response', 'include', 'answer', 'controller', 'complaint', 'dpias', 'timely', 'allow', 'rule', 'carried', 'included', 'entering', 'decided', 'investigating', 'designated', 'category', 'international', 'engaging', 'gdpr', 'storing', 'intervention', 'safeguard', 'event', 'verify', 'change', 'unregulated', 'public', 'lawfully', 'currently', 'u', 'delay', 'basis', 'clear', 'processed', 'chosen', 'objected', 'correction', 'destroyed', 'appointed', 'commissioner', 'freely', 'compliance', 'privacy', 'erased', 'procedure', 'period', 'reporting', 'commission', 'issue', 'obtain', 'appropriate', 'involved', 'circumstance', 'resolving', 'type', 'technical', 'longer', 'measure', 'contractual', 'may', 'access', 'performance', 'require', 'considered', 'process', 'facilitates', 'outside', 'guardian', 'child', 'rectified', 'contract', 'sought', 'machine', 'collected', 'kept', 'restricted', 'plain', 'programme', 'transferred', 'special', 'retention', 'technology', 'partner', 'conducting', 'agree', 'making', 'incident', 'respond', 'applicable', 'exported', 'fully', 'agreement', 'one', 'service', 'line', 'protection', 'listed', 'decision', 'securely', 'eu', 'behalf', 'exercising', 'consent', 'explicit', 'similar', 'restriction', 'party', 'escalation', 'manner', 'structured', 'adequacy', 'interest', 'action', 'used', 'get', 'format', 'specific', 'administrative', 'readable', 'provide', 'deleted', 'need', 'documented', 'providing', 'eea', 'informed', 'inform', 'handling', 'accordance', 'place', 'preventing', 'clause', 'previous', 'contest', 'proactively', 'dpo', 'originally', 'within', 'question', 'without', 'employed', 'way', 'notify', 'required', 'easily', 'directly', 'object', 'valid', 'commonly', 'duplication', 'contact', 'related', 'meet', 'control', 'eg', 'put', 'made', 'withdraw', 'published', 'country', 'nature', 'task', 'purpose', 'unnecessary', 'responsible', 'demonstrate', 'receiving', 'base', 'parent', 'direct', 'facilitate', 'sars', 'regularly', 'per', 'breach', 'plan', 'receives', 'human', 'given', 'based', 'retained', 'record', 'ground', 'necessary', 'policy', 'office', 'supplier', 'transferring', 'recipient', 'form', 'using', 'part', 'anonymised', 'merger', 'encryption', 'concise', 'standard', 'good', 'cctv', 'affirmative', 'acquired', 'transfer', 'provided', 'hold', 'reason', 'requirement', 'analysis', 'significant', 'information', 'sensitive', 'statement', 'consented', 'detail', 'individual', 'processing', 'limited', 'cooperation', 'subject', 'restored', 'indication', 'request', 'affect', 'mechanism', 'language', 'right', 'reviewed', 'accessible', 'certain', 'resought', 'assessed', 'physical', 'age', 'third', 'collecting', 'told', 'security', 'minimum', 'legitimate', 'article', 'ensure', 'including', 'deal', 'monitoring', 'systematically', 'identifying'}\n",
            "{'business', 'resolve', 'dispose', 'data', 'came', 'accurate', 'risk', 'date', 'remains', 'use', 'online', 'informs', 'automated', 'personal', 'handle', 'understands', 'positive', 'three', 'allow', 'communicate', 'usability', 'supported', 'restrict', 'level', 'effectively', 'constitute', 'conducted', 'registered', 'offer', 'applied', 'manages', 'activity', 'staff', 'monitor', 'basis', 'processor', 'processed', 'commissioner', 'share', 'review', 'privacy', 'ask', 'link', 'compliance', 'move', 'lawful', 'procedure', 'relevant', 'dpia', 'relies', 'appropriate', 'protected', 'circumstance', 'copy', 'management', 'economic', 'project', 'technical', 'lead', 'longer', 'clearly', 'measure', 'erase', 'adequate', 'may', 'access', 'promote', 'another', 'identified', 'outside', 'process', 'considered', 'child', 'contract', 'implemented', 'justification', 'transferred', 'audit', 'making', 'map', 'respond', 'fully', 'system', 'one', 'provides', 'service', 'protection', 'decision', 'securely', 'behalf', 'relying', 'consent', 'structured', 'interest', 'must', 'action', 'ensures', 'officer', 'european', 'protect', 'training', 'asked', 'awareness', 'documented', 'support', 'report', 'existing', 'key', 'handling', 'others', 'place', 'document', 'dpo', 'hindrance', 'without', 'way', 'effectiveness', 'integrate', 'directly', 'required', 'related', 'control', 'safe', 'base', 'demonstrate', 'framework', 'written', 'ongoing', 'regularly', 'breach', 'legislation', 'recognise', 'record', 'necessary', 'office', 'policy', 'objection', 'area', 'part', 'secure', 'effective', 'provided', 'transfer', 'hold', 'requirement', 'information', 'people', 'vital', 'across', 'culture', 'nominated', 'understand', 'processing', 'individual', 'whether', 'test', 'request', 'conduct', 'right', 'flow', 'reviewed', 'identify', 'manage', 'security', 'environment', 'legitimate', 'maker', 'operation', 'ensure', 'deal', 'organisational', 'currently', 'impact'}\n",
            "{'data', 'aware', 'deletes', 'user', 'inviduals', 'fulfill', 'leak', 'anonymize', 'date', 'use', 'specified', 'personal', 'month', 'answer', 'controller', 'reduced', 'regarding', 'keeping', 'incorrect', 'practice', 'change', 'public', 'pseudonymize', 'clear', 'unauthorised', 'review', 'compliance', 'ask', 'achieve', 'objective', 'updated', 'holding', 'responsibility', 'erasure', 'comply', 'longer', 'justify', 'measure', 'erase', 'rectification', 'access', 'answered', 'automatically', 'historical', 'keep', 'collected', 'refuse', 'audit', 'needed', 'map', 'one', 'choice', 'provides', 'apply', 'consent', 'explicit', 'still', 'interest', 'used', 'erease', 'protect', 'provide', 'new', 'inform', 'software', 'limit', 'way', 'application', 'expires', 'made', 'purpose', 'demonstrate', 'sufficient', 'update', 'regularly', 'retained', 'based', 'unlawful', 'record', 'scientific', 'encryption', 'archiving', 'minimization', 'information', 'detail', 'technique', 'processing', 'individual', 'possible', 'request', 'stored', 'mechanism', 'right', 'flow', 'frame', 'security', 'time', 'performed', 'legitimate', 'accessto', 'point'}\n",
            "{'customer', 'authority', 'data', 'sign', 'team', 'appoint', 'anonymize', 'legal', 'incomplete', 'automated', 'personal', 'create', 'know', 'wherever', 'activity', 'developing', 'gdpr', 'event', 'correct', 'pseudonymize', 'clear', 'member', 'privacy', 'take', 'compliance', 'ask', 'procedure', 'representative', 'copy', 'state', 'access', 'another', 'outside', 'process', 'carry', 'justification', 'transferred', 'audit', 'make', 'agreement', 'one', 'protection', 'decision', 'eu', 'organization', 'behalf', 'company', 'party', 'determine', 'build', 'officer', 'protect', 'format', 'provide', 'deleted', 'awareness', 'designate', 'place', 'assessment', 'within', 'notify', 'easily', 'object', 'responsible', 'internal', 'update', 'product', 'account', 'breach', 'someone', 'based', 'necessary', 'policy', 'stop', 'moment', 'receive', 'information', 'people', 'across', 'encrypt', 'processing', 'possible', 'subject', 'request', 'conduct', 'right', 'easy', 'third', 'security', 'time', 'ensuring', 'inaccurate', 'begin', 'impact'}\n",
            "{'intended', 'utilised', 'authority', 'rectify', 'marketing', 'data', 'aware', 'held', 'particular', 'consentcollecting', 'prior', 'potential', 'risk', 'legal', 'automated', 'revoke', 'personal', 'organisation', 'controller', 'taken', 'dpias', 'allow', 'communicate', 'restrict', 'designated', 'conducted', 'international', 'remedial', 'category', 'confirmed', 'notified', 'activity', 'gdpr', 'completed', 'event', 'basis', 'delay', 'processed', 'obtained', 'review', 'engaged', 'privacy', 'relevant', 'profiling', 'representative', 'appropriate', 'involved', 'project', 'hour', 'comply', 'clearly', 'writing', 'personnel', 'measure', 'may', 'access', 'another', 'require', 'process', 'considered', 'contract', 'defining', 'occur', 'implemented', 'specify', 'proportionate', 'kept', 'union', 'collected', 'transferred', 'collection', 'manual', 'special', 'technology', 'undue', 'making', 'respond', 'applicable', 'agreement', 'protection', 'decision', 'company', 'notice', 'consent', 'explicit', 'party', 'annex', 'must', 'action', 'determine', 'european', 'secondary', 'development', 'box', 'pursuant', 'notification', 'new', 'documented', 'delete', 'place', 'exercise', 'stage', 'clause', 'every', 'verbally', 'assessment', 'within', 'later', 'supervisory', 'without', 'notify', 'directly', 'required', 'technically', 'pseudonymisation', 'eg', 'country', 'crossborder', 'purpose', 'internal', 'involving', 'direct', 'update', 'revoked', 'received', 'breach', 'based', 'record', 'ticking', 'policy', 'objection', 'unit', 'affirmative', 'along', 'stop', 'transfer', 'provided', 'implementing', 'subcontractor', 'information', 'log', 'across', 'statement', 'effect', 'processing', 'possible', 'subject', 'beginning', 'request', 'stopped', 'mechanism', 'right', 'engages', 'assessed', 'requested', 'third', 'becoming', 'security', 'time', 'ensure', 'including', 'minimisation', 'organisational', 'point', 'impact'}\n",
            "number of word before convertion: 2252\n",
            "number of word before convertion: 274\n",
            "number of word before convertion: 173\n",
            "number of word before convertion: 101\n",
            "number of word before convertion: 94\n",
            "number of word before convertion: 165\n",
            "number of word with vector: 2151\n",
            "number of word with vector: 267\n",
            "number of word with vector: 169\n",
            "number of word with vector: 98\n",
            "number of word with vector: 92\n",
            "number of word with vector: 157\n",
            " \n",
            "****************** COSINUS ***********************\n",
            "Cosinus Similarity between GDPR keys words & Q1 0.947\n",
            "Cosinus Similarity between GDPR keys words & Q2 0.921\n",
            "Cosinus Similarity between GDPR keys words & Q3 0.886\n",
            "Cosinus Similarity between GDPR keys words & Q4 0.884\n",
            "Cosinus Similarity between GDPR keys words & Q5 0.925\n",
            "****************** EUCLIDEAN *********************\n",
            "Euclidean Similarity between GDPR keys words & Q1 0.72\n",
            "Euclidean Similarity between GDPR keys words & Q2 0.651\n",
            "Euclidean Similarity between GDPR keys words & Q3 0.559\n",
            "Euclidean Similarity between GDPR keys words & Q4 0.57\n",
            "Euclidean Similarity between GDPR keys words & Q5 0.66\n",
            "****************** MANHATTAN *********************\n",
            "Manhattan Similarity between GDPR keys words & Q1 -2.88\n",
            "Manhattan Similarity between GDPR keys words & Q2 -3.951\n",
            "Manhattan Similarity between GDPR keys words & Q3 -4.951\n",
            "Manhattan Similarity between GDPR keys words & Q4 -4.97\n",
            "Manhattan Similarity between GDPR keys words & Q5 -3.514\n"
          ]
        }
      ],
      "source": [
        "from nltk.sem.evaluate import Model\n",
        "from gensim import models\n",
        "from gensim.models import KeyedVectors\n",
        "from gensim.matutils import cossim\n",
        "from gensim.models import word2vec\n",
        "from nltk.corpus import stopwords\n",
        "import numpy as np\n",
        "import nltk\n",
        "nltk.download('omw-1.4')\n",
        "from scipy.spatial import distance\n",
        "from sklearn.metrics.pairwise import cosine_similarity\n",
        "    # Load the pre-trained word2vec model\n",
        "\n",
        "#model = KeyedVectors.load_word2vec_format('/content/drive/MyDrive/Colab_questionnaires/GoogleNews-vectors-negative300.bin', binary=True)\n",
        "\n",
        "# Préprocessing of documents (tokenisation, suppression des mots vides, etc.)\n",
        "stopwords = set(stopwords.words(\"english\"))\n",
        "\n",
        "    # Modify the list comprehension to stem each word before adding it to the list\n",
        "#from nltk.stem import PorterStemmer, SnowballStemmer\n",
        "#stemmer = PorterStemmer()\n",
        "#stemmer = SnowballStemmer(\"english\")\n",
        "#texts = [[stemmer.stem(word) for word in document.lower().split() if word not in stopwords] for document in [doc, doc1, doc2, doc3, doc4, doc5]]\n",
        "\n",
        "doc_tokens = set(preprocess_text(doc))\n",
        "doc1_tokens = set(preprocess_text(doc1))\n",
        "doc2_tokens = set(preprocess_text(doc2))\n",
        "doc3_tokens = set(preprocess_text(doc3))\n",
        "doc4_tokens = set(preprocess_text(doc4))\n",
        "doc5_tokens = set(preprocess_text(doc5))\n",
        "\n",
        "#Number of words before conversion to vectors\n",
        "print (doc_tokens)\n",
        "print (doc1_tokens)\n",
        "print (doc2_tokens)\n",
        "print (doc3_tokens)\n",
        "print (doc4_tokens)\n",
        "print (doc5_tokens)\n",
        "print('number of word before convertion:',len(doc_tokens))\n",
        "print('number of word before convertion:',len(doc1_tokens))\n",
        "print('number of word before convertion:',len(doc2_tokens))\n",
        "print('number of word before convertion:',len(doc3_tokens))\n",
        "print('number of word before convertion:',len(doc4_tokens))\n",
        "print('number of word before convertion:',len(doc5_tokens))\n",
        "\n",
        "#for word in doc_tokens:\n",
        "#    cpt = cpt + 1;\n",
        "#print(cpt)  \n",
        "\n",
        "# Converting documents to word2vec mean vectors\n",
        "vectors = [model[word] for word in doc_tokens if word in model]\n",
        "doc_vec = np.mean(vectors, axis=0)\n",
        "\n",
        "vectors1 = [model[word] for word in doc1_tokens if word in model]\n",
        "doc1_vec = np.mean(vectors1, axis=0)\n",
        "\n",
        "vectors2 = [model[word] for word in doc2_tokens if word in model]\n",
        "doc2_vec = np.mean(vectors2, axis=0)\n",
        "\n",
        "\n",
        "vectors3 = [model[word] for word in doc3_tokens if word in model]\n",
        "doc3_vec = np.mean(vectors3, axis=0)\n",
        "\n",
        "vectors4 = [model[word] for word in doc4_tokens if word in model]\n",
        "doc4_vec = np.mean(vectors4, axis=0)\n",
        "\n",
        "vectors5 = [model[word] for word in doc5_tokens if word in model]\n",
        "doc5_vec = np.mean(vectors5, axis=0)\n",
        "# --------------------------------------------------------------------------------\n",
        "#Number of words After conversion to vectors\n",
        "print('number of word with vector:',len(vectors))\n",
        "print('number of word with vector:',len(vectors1))\n",
        "print('number of word with vector:',len(vectors2))\n",
        "print('number of word with vector:',len(vectors3))\n",
        "print('number of word with vector:',len(vectors4))\n",
        "print('number of word with vector:',len(vectors5))\n",
        "print(' ')\n",
        "print ('****************** COSINUS ***********************')\n",
        "# Calculate the cosine similarity\n",
        "cos_similarity1 = cosine_similarity([doc_vec], [doc1_vec])\n",
        "cos_similarity2 = cosine_similarity([doc_vec], [doc2_vec])\n",
        "cos_similarity3 = cosine_similarity([doc_vec], [doc3_vec])\n",
        "cos_similarity4 = cosine_similarity([doc_vec], [doc4_vec])\n",
        "cos_similarity5 = cosine_similarity([doc_vec], [doc5_vec])\n",
        "# Print the similarity score\n",
        "print(\"Cosinus Similarity between GDPR keys words & Q1\",round(cos_similarity1[0][0],3))\n",
        "print(\"Cosinus Similarity between GDPR keys words & Q2\",round(cos_similarity2[0][0],3))\n",
        "print(\"Cosinus Similarity between GDPR keys words & Q3\",round(cos_similarity3[0][0],3))\n",
        "print(\"Cosinus Similarity between GDPR keys words & Q4\",round(cos_similarity4[0][0],3))\n",
        "print(\"Cosinus Similarity between GDPR keys words & Q5\",round(cos_similarity5[0][0],3))\n",
        "\n",
        "print ('****************** EUCLIDEAN *********************')\n",
        "\n",
        "# Calculate the cosine similarity\n",
        "euc_similarity1 = 1 -distance.euclidean(doc_vec, doc1_vec)\n",
        "euc_similarity2 = 1 -distance.euclidean(doc_vec, doc2_vec)\n",
        "euc_similarity3 = 1 -distance.euclidean(doc_vec, doc3_vec)\n",
        "euc_similarity4 = 1 -distance.euclidean(doc_vec, doc4_vec)\n",
        "euc_similarity5 = 1 -distance.euclidean(doc_vec, doc5_vec)\n",
        "# Print the similarity score\n",
        "print(\"Euclidean Similarity between GDPR keys words & Q1\",round(euc_similarity1,3))\n",
        "print(\"Euclidean Similarity between GDPR keys words & Q2\",round(euc_similarity2,3))\n",
        "print(\"Euclidean Similarity between GDPR keys words & Q3\",round(euc_similarity3,3))\n",
        "print(\"Euclidean Similarity between GDPR keys words & Q4\",round(euc_similarity4,3))\n",
        "print(\"Euclidean Similarity between GDPR keys words & Q5\",round(euc_similarity5,3))\n",
        "\n",
        "\n",
        "print ('****************** MANHATTAN *********************')\n",
        "\n",
        "# Calculate the cosine similarity\n",
        "man_similarity1 = 1 - distance.cityblock(doc_vec, doc1_vec)\n",
        "man_similarity2 = 1 - distance.cityblock(doc_vec, doc2_vec)\n",
        "man_similarity3 = 1 - distance.cityblock(doc_vec, doc3_vec)\n",
        "man_similarity4 = 1 - distance.cityblock(doc_vec, doc4_vec)\n",
        "man_similarity5 = 1 - distance.cityblock(doc_vec, doc5_vec)\n",
        "# Print the similarity score\n",
        "print(\"Manhattan Similarity between GDPR keys words & Q1\",round(man_similarity1,3))\n",
        "print(\"Manhattan Similarity between GDPR keys words & Q2\",round(man_similarity2,3))\n",
        "print(\"Manhattan Similarity between GDPR keys words & Q3\",round(man_similarity3,3))\n",
        "print(\"Manhattan Similarity between GDPR keys words & Q4\",round(man_similarity4,3))\n",
        "print(\"Manhattan Similarity between GDPR keys words & Q5\",round(man_similarity5,3))"
      ]
    },
    {
      "cell_type": "code",
      "execution_count": null,
      "metadata": {
        "colab": {
          "base_uri": "https://localhost:8080/"
        },
        "id": "WxU4q3jUyvBa",
        "outputId": "3fedcdf3-3d12-4430-e0fa-4cfdd1832909"
      },
      "outputs": [
        {
          "output_type": "stream",
          "name": "stdout",
          "text": [
            "['crossreferencing', 'edpb', 'favourable', 'offence', 'authorisation', 'labour', 'cnils', 'dpo', 'notforprofit', 'authorised', 'noneu', 'subjectmatter', 'sectorbased', 'cnil', 'acknowledgement', 'organisation', 'pseudonymisation', 'unauthorised', 'utilise', 'utilisation', 'detat', 'unfavourable', 'organisation', 'gdpr', 'dpias', 'resought', 'dpo', 'programme', 'eea', 'recognise', 'dpia', 'organisational', 'dpo', 'unauthorised', 'erease', 'pseudonymize', 'gdpr', 'pseudonymize', 'utilised', 'consentcollecting', 'organisation', 'pseudonymisation', 'gdpr', 'dpias', 'organisational', 'minimisation']\n"
          ]
        }
      ],
      "source": [
        "# ----------------------------------Display words that do not have a vector representation-----------------------\n",
        "non_vectorized_words = []\n",
        "\n",
        "phrases = [doc_tokens, doc1_tokens, doc2_tokens, doc3_tokens, doc4_tokens, doc5_tokens]\n",
        "# Browse each sentence\n",
        "for phrase in phrases:\n",
        "    # Separate the sentence into words\n",
        "    #words = phrase.split()\n",
        "    words = phrase\n",
        "    # Parcourir chaque mot\n",
        "    for word in words:\n",
        "        # Check if the word has a vector representation\n",
        "        if word not in model:\n",
        "            # Add the word to the list of words without vector representation\n",
        "            non_vectorized_words.append(word)\n",
        "            #print(phrases, \": \", word)\n",
        "# Display the list of words without vector representation\n",
        "print(non_vectorized_words)"
      ]
    }
  ],
  "metadata": {
    "colab": {
      "provenance": []
    },
    "kernelspec": {
      "display_name": "Python 3",
      "name": "python3"
    },
    "language_info": {
      "name": "python"
    }
  },
  "nbformat": 4,
  "nbformat_minor": 0
}